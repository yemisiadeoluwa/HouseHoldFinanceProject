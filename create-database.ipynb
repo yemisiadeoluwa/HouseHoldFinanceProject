{
    "metadata": {
        "kernelspec": {
            "name": "SQL",
            "display_name": "SQL",
            "language": "sql"
        },
        "language_info": {
            "name": "sql",
            "version": ""
        }
    },
    "nbformat_minor": 2,
    "nbformat": 4,
    "cells": [
        {
            "cell_type": "markdown",
            "source": [
                "        Author:       Yemisi Adeoluwa\r\n",
                "        Project Name: OurMicroFinanceDB OLTP Database\r\n",
                "        File Name:\t  create-database.sql\r\n",
                "        Current Version:\tv1.0.3-BETA\r\n",
                "        Create date:\t\t24/11/2018\r\n",
                "        Description:  Create OurMicroFinanceDB database if it does not exist.\r\n",
                "\t\t\t\t\t  But switched to OurMicroFinanceDB database, if it does exist."
            ],
            "metadata": {
                "azdata_cell_guid": "11884cbb-bcf3-43b2-9fc1-45a15c84fa12"
            }
        },
        {
            "cell_type": "code",
            "source": [
                "\r\n",
                "USE master\r\n",
                "GO\r\n",
                "\r\n",
                "\r\n",
                "IF NOT EXISTS\r\n",
                "(\r\n",
                "\tSELECT name\r\n",
                "\tFROM master.sys.databases\r\n",
                "\tWHERE name = N'OurMicroFinanceDB_v_1_0_3_BETA'\r\n",
                ")\r\n",
                "BEGIN\r\n",
                "\tCREATE DATABASE OurMicroFinanceDB_v_1_0_3_BETA\r\n",
                "\tPRINT 'Successfully created OurMicroFinanceDB_v_1_0_3_BETA database'\r\n",
                "END\r\n",
                ""
            ],
            "metadata": {
                "azdata_cell_guid": "09475e90-8c37-4a73-9c7b-f9406e3b960b"
            },
            "outputs": [],
            "execution_count": null
        }
    ]
}