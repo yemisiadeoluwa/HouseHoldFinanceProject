{
    "metadata": {
        "kernelspec": {
            "name": "SQL",
            "display_name": "SQL",
            "language": "sql"
        },
        "language_info": {
            "name": "sql",
            "version": ""
        }
    },
    "nbformat_minor": 2,
    "nbformat": 4,
    "cells": [
        {
            "cell_type": "markdown",
            "source": [
                "            Author:\t\t\t Yemisi Adeoluwa\r\n",
                "            Project Name:\t   OurMicroFinanceDB OLAP DataWareHouse\r\n",
                "            File Name:\t\t  create-datawarehouse.sql\r\n",
                "            Current Version:\tv1.0.3-BETA\r\n",
                "            Create date:\t\t09/05/2020\r\n",
                "            Description:        Create OurMicroFinancedatawarehouse if it does not exist.\r\n",
                "\t\t\t\t\t\t        But switched to OurMicroFinanceDW datawarehouse, if it does exist.\r\n",
                "\r\n",
                "            Change History:\t v1.0.3-BETA: 02/05/2019 Lanre Adeoluwa: Began project collaboration with Yemisi\r\n",
                "\t\t\t\t\t\t        v1.0.2-BETA: 02/05/2019 Lanre Adeoluwa: Changed HomeFinanceDB to OurMicroFinance\r\n",
                "\t\t\t\t\t\t        v1.0.1-BETA: 04/02/2019 Lanre Adeoluwa: Changed HomeFinance to HomeFinanceDB\r\n",
                "\t\t\t\t\t\t        v1.0.0-BETA: 30/11/2018 Lanre Adeoluwa: Created initial database.\r\n",
                ""
            ],
            "metadata": {
                "azdata_cell_guid": "5d3f449b-5206-4802-b277-82eff04c56d7"
            }
        },
        {
            "cell_type": "code",
            "source": [
                "USE master\r\n",
                "GO\r\n",
                "\r\n",
                "\r\n",
                "IF NOT EXISTS\r\n",
                "(\r\n",
                "\tSELECT name\r\n",
                "\tFROM master.sys.databases\r\n",
                "\tWHERE name = N'OurMicroFinanceDW_v_1_0_3_BETA'\r\n",
                ")\r\n",
                "BEGIN\r\n",
                "\tCREATE DATABASE OurMicroFinanceDW_v_1_0_3_BETA\r\n",
                "\tPRINT 'Successfully created OurMicroFinanceDW_v_1_0_3_BETA database'\r\n",
                "END"
            ],
            "metadata": {
                "azdata_cell_guid": "915eeb0e-8342-4c33-a72d-f3eb4c36a742"
            },
            "outputs": [],
            "execution_count": null
        }
    ]
}